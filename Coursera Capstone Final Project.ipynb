{
    "cells": [
        {
            "metadata": {},
            "cell_type": "markdown",
            "source": "**Introduction/Business Problem**"
        },
        {
            "metadata": {
                "collapsed": true
            },
            "cell_type": "markdown",
            "source": "I lived in Mahkota Cheras, a small yet busy town in Malaysia for about 5 years, so it would be interesting to explore it all over again through data science. I would have to use Foursquare to get detailed data from most businesses in the area. This would be fairly interesting to someone trying to start a new business in the area since there is many other shops and restaurants in the area. The location would be something they would need to be aware of or the business will probably not do well because of all the competition. I will plot a map and find information about the busiest part of the neighborhood."
        },
        {
            "metadata": {},
            "cell_type": "markdown",
            "source": "**Data**"
        },
        {
            "metadata": {},
            "cell_type": "markdown",
            "source": "I would be getting business reviews and locations using Foursquare to understand why certain businesses are doing well/not so well, and attempt to discover prime locations and why. I will compare business and may plot graphs with the information I am able to gather."
        },
        {
            "metadata": {},
            "cell_type": "code",
            "source": "",
            "execution_count": null,
            "outputs": []
        }
    ],
    "metadata": {
        "kernelspec": {
            "name": "python3",
            "display_name": "Python 3.7",
            "language": "python"
        },
        "language_info": {
            "name": "python",
            "version": "3.7.9",
            "mimetype": "text/x-python",
            "codemirror_mode": {
                "name": "ipython",
                "version": 3
            },
            "pygments_lexer": "ipython3",
            "nbconvert_exporter": "python",
            "file_extension": ".py"
        }
    },
    "nbformat": 4,
    "nbformat_minor": 1
}